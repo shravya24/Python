{
 "cells": [
  {
   "cell_type": "code",
   "execution_count": 1,
   "metadata": {},
   "outputs": [],
   "source": [
    "#DESCRIPTION\n",
    "\n",
    "# An employee at ABC Inc. is tasked with writing a program that capitalizes the first and last letter \n",
    "# of each word in a string."
   ]
  },
  {
   "cell_type": "code",
   "execution_count": 4,
   "metadata": {},
   "outputs": [
    {
     "data": {
      "text/plain": [
       "'AN EmployeE AT ABC Inc. IS TaskeD WitH WritinG PrograM ThaT CapitalizeS ThE FirsT AnD LasT LetteR OF'"
      ]
     },
     "execution_count": 4,
     "metadata": {},
     "output_type": "execute_result"
    }
   ],
   "source": [
    "text =\"An employee at ABC Inc. is tasked with writing program that capitalizes the first and last letter\"\n",
    "lis = text.split()\n",
    "for i in range(len(lis)):\n",
    "    first = lis[i][0].capitalize()\n",
    "    last = lis[i][-1].capitalize()\n",
    "    lis[i] = first+lis[i][1:-1]+last\n",
    "result = \"\"\n",
    "result = \" \".join(lis)\n",
    "result"
   ]
  },
  {
   "cell_type": "code",
   "execution_count": null,
   "metadata": {},
   "outputs": [],
   "source": []
  }
 ],
 "metadata": {
  "kernelspec": {
   "display_name": "Python 3",
   "language": "python",
   "name": "python3"
  },
  "language_info": {
   "codemirror_mode": {
    "name": "ipython",
    "version": 3
   },
   "file_extension": ".py",
   "mimetype": "text/x-python",
   "name": "python",
   "nbconvert_exporter": "python",
   "pygments_lexer": "ipython3",
   "version": "3.8.3"
  }
 },
 "nbformat": 4,
 "nbformat_minor": 4
}
